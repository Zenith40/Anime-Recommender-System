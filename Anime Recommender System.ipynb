{
 "cells": [
  {
   "cell_type": "markdown",
   "id": "988ce18d",
   "metadata": {},
   "source": [
    "## Importing Libraries"
   ]
  },
  {
   "cell_type": "code",
   "execution_count": 1,
   "id": "e076089a",
   "metadata": {},
   "outputs": [],
   "source": [
    "import numpy as np\n",
    "import pandas as pd"
   ]
  },
  {
   "cell_type": "markdown",
   "id": "166601da",
   "metadata": {},
   "source": [
    "## Loading Dataset"
   ]
  },
  {
   "cell_type": "code",
   "execution_count": 2,
   "id": "af62d758",
   "metadata": {},
   "outputs": [],
   "source": [
    "df = pd.read_csv('Anime Data 2024.csv')\n",
    "df_links = pd.read_csv('anime_links.csv')"
   ]
  },
  {
   "cell_type": "code",
   "execution_count": 3,
   "id": "28172fe1",
   "metadata": {},
   "outputs": [],
   "source": [
    "df_final = df.merge(df_links,on='name')"
   ]
  },
  {
   "cell_type": "code",
   "execution_count": 4,
   "id": "30b0dfdb",
   "metadata": {},
   "outputs": [
    {
     "data": {
      "text/plain": [
       "(13500, 25)"
      ]
     },
     "execution_count": 4,
     "metadata": {},
     "output_type": "execute_result"
    }
   ],
   "source": [
    "df.shape"
   ]
  },
  {
   "cell_type": "code",
   "execution_count": 5,
   "id": "0d903aa4",
   "metadata": {
    "scrolled": true
   },
   "outputs": [
    {
     "data": {
      "text/html": [
       "<div>\n",
       "<style scoped>\n",
       "    .dataframe tbody tr th:only-of-type {\n",
       "        vertical-align: middle;\n",
       "    }\n",
       "\n",
       "    .dataframe tbody tr th {\n",
       "        vertical-align: top;\n",
       "    }\n",
       "\n",
       "    .dataframe thead th {\n",
       "        text-align: right;\n",
       "    }\n",
       "</style>\n",
       "<table border=\"1\" class=\"dataframe\">\n",
       "  <thead>\n",
       "    <tr style=\"text-align: right;\">\n",
       "      <th></th>\n",
       "      <th>name</th>\n",
       "      <th>sypnopsis</th>\n",
       "      <th>image</th>\n",
       "      <th>synonyms</th>\n",
       "      <th>japanese_name</th>\n",
       "      <th>english_name</th>\n",
       "      <th>type</th>\n",
       "      <th>episodes</th>\n",
       "      <th>status</th>\n",
       "      <th>aired</th>\n",
       "      <th>premiered</th>\n",
       "      <th>broadcast</th>\n",
       "      <th>producers</th>\n",
       "      <th>licensors</th>\n",
       "      <th>studios</th>\n",
       "      <th>source</th>\n",
       "      <th>genres</th>\n",
       "      <th>demographic</th>\n",
       "      <th>duration</th>\n",
       "      <th>ratings</th>\n",
       "      <th>score</th>\n",
       "      <th>rank_x</th>\n",
       "      <th>popularity</th>\n",
       "      <th>members</th>\n",
       "      <th>favorites</th>\n",
       "      <th>rank_y</th>\n",
       "      <th>links</th>\n",
       "    </tr>\n",
       "  </thead>\n",
       "  <tbody>\n",
       "    <tr>\n",
       "      <th>1236</th>\n",
       "      <td>Arakawa Under the Bridge x Bridge</td>\n",
       "      <td>On the beautiful banks of the Arakawa River, i...</td>\n",
       "      <td>https://cdn.myanimelist.net/images/anime/1851/...</td>\n",
       "      <td>Arakawa Under the Bridge*2, Arakawa Under the ...</td>\n",
       "      <td>荒川アンダー ザブリッジ×ブリッジ</td>\n",
       "      <td>Arakawa Under the Bridge x Bridge</td>\n",
       "      <td>TV</td>\n",
       "      <td>13</td>\n",
       "      <td>Finished Airing</td>\n",
       "      <td>Oct 4, 2010 to Dec 27, 2010</td>\n",
       "      <td>Fall 2010</td>\n",
       "      <td>Mondays at 01:35 (JST)</td>\n",
       "      <td>SquareEnix,StarchildRecords,TVTokyoMusic,GANSIS</td>\n",
       "      <td>NISAmerica,Inc.</td>\n",
       "      <td>Shaft</td>\n",
       "      <td>Manga</td>\n",
       "      <td>Comedy,Romance</td>\n",
       "      <td>Seinen</td>\n",
       "      <td>23 min. per ep.</td>\n",
       "      <td>PG-13 - Teens 13 or older</td>\n",
       "      <td>7.711 (scored by 8796187,961 users)</td>\n",
       "      <td>1237</td>\n",
       "      <td>#1473</td>\n",
       "      <td>167,694</td>\n",
       "      <td>424</td>\n",
       "      <td>1237</td>\n",
       "      <td>https://myanimelist.net/anime/9074/Arakawa_Und...</td>\n",
       "    </tr>\n",
       "    <tr>\n",
       "      <th>3552</th>\n",
       "      <td>Papa no Iukoto wo Kikinasai!: Pokkapoka</td>\n",
       "      <td>Unaired episode included in the fifth Blu-ray ...</td>\n",
       "      <td>https://cdn.myanimelist.net/images/anime/12/78...</td>\n",
       "      <td>Papakiki Special, Listen to Me, Girls, I'm You...</td>\n",
       "      <td>パパのいうことを聞きなさい！ぽっかぽか</td>\n",
       "      <td>NaN</td>\n",
       "      <td>Special</td>\n",
       "      <td>1</td>\n",
       "      <td>Finished Airing</td>\n",
       "      <td>Jul 11, 2012</td>\n",
       "      <td>NaN</td>\n",
       "      <td>NaN</td>\n",
       "      <td>Nonefound,addsome</td>\n",
       "      <td>SentaiFilmworks</td>\n",
       "      <td>feel.</td>\n",
       "      <td>Light novel</td>\n",
       "      <td>Comedy,Romance</td>\n",
       "      <td>Childcare</td>\n",
       "      <td>23 min.</td>\n",
       "      <td>PG-13 - Teens 13 or older</td>\n",
       "      <td>7.161 (scored by 2337823,378 users)</td>\n",
       "      <td>3551</td>\n",
       "      <td>#3625</td>\n",
       "      <td>41,197</td>\n",
       "      <td>19</td>\n",
       "      <td>3551</td>\n",
       "      <td>https://myanimelist.net/anime/12673/Papa_no_Iu...</td>\n",
       "    </tr>\n",
       "    <tr>\n",
       "      <th>4319</th>\n",
       "      <td>Mirai Shounen Conan (Movie)</td>\n",
       "      <td>Twenty years after a ravaging war drastically ...</td>\n",
       "      <td>https://cdn.myanimelist.net/images/anime/1866/...</td>\n",
       "      <td>Mirai Shounen Conan (1979), The Boy in Future ...</td>\n",
       "      <td>未来少年コナン (1979)</td>\n",
       "      <td>Future Boy Conan Movie</td>\n",
       "      <td>Movie</td>\n",
       "      <td>1</td>\n",
       "      <td>Finished Airing</td>\n",
       "      <td>Sep 15, 1979</td>\n",
       "      <td>NaN</td>\n",
       "      <td>NaN</td>\n",
       "      <td>Nonefound,addsome</td>\n",
       "      <td>Nonefound,addsome</td>\n",
       "      <td>Nippon Animation</td>\n",
       "      <td>Novel</td>\n",
       "      <td>Adventure,Drama</td>\n",
       "      <td>Sci-Fi</td>\n",
       "      <td>2 hr. 2 min.</td>\n",
       "      <td>PG-13 - Teens 13 or older</td>\n",
       "      <td>7.001 (scored by 956956 users)</td>\n",
       "      <td>4318</td>\n",
       "      <td>#10172</td>\n",
       "      <td>3,169</td>\n",
       "      <td>4</td>\n",
       "      <td>4319</td>\n",
       "      <td>https://myanimelist.net/anime/7308/Mirai_Shoun...</td>\n",
       "    </tr>\n",
       "    <tr>\n",
       "      <th>2670</th>\n",
       "      <td>Ganbare Genki</td>\n",
       "      <td>Horiguchi Genki was 5 years old boy. His mothe...</td>\n",
       "      <td>https://cdn.myanimelist.net/images/anime/9/255...</td>\n",
       "      <td>Forza Sugar, Genki The Boy Champ, Go For It! G...</td>\n",
       "      <td>がんばれ元気</td>\n",
       "      <td>NaN</td>\n",
       "      <td>TV</td>\n",
       "      <td>35</td>\n",
       "      <td>Finished Airing</td>\n",
       "      <td>Jul 16, 1980 to Apr 1, 1981</td>\n",
       "      <td>Summer 1980</td>\n",
       "      <td>Wednesdays at 19:00 (JST)</td>\n",
       "      <td>FujiTV</td>\n",
       "      <td>Nonefound,addsome</td>\n",
       "      <td>Toei Animation</td>\n",
       "      <td>Manga</td>\n",
       "      <td>Comedy,Sports,Combat Sports</td>\n",
       "      <td>Shounen</td>\n",
       "      <td>23 min. per ep.</td>\n",
       "      <td>PG-13 - Teens 13 or older</td>\n",
       "      <td>7.321 (scored by 10721,072 users)</td>\n",
       "      <td>2669</td>\n",
       "      <td>#9976</td>\n",
       "      <td>3,393</td>\n",
       "      <td>16</td>\n",
       "      <td>2670</td>\n",
       "      <td>https://myanimelist.net/anime/3213/Ganbare_Genki</td>\n",
       "    </tr>\n",
       "    <tr>\n",
       "      <th>4486</th>\n",
       "      <td>Kaibutsu Oujo</td>\n",
       "      <td>When Hiro Hiyorimi tries to save a beautiful y...</td>\n",
       "      <td>https://cdn.myanimelist.net/images/anime/2/209...</td>\n",
       "      <td>Kaibutsu Ohjo, Monster Princess</td>\n",
       "      <td>怪物王女</td>\n",
       "      <td>Princess Resurrection</td>\n",
       "      <td>TV</td>\n",
       "      <td>25</td>\n",
       "      <td>Finished Airing</td>\n",
       "      <td>Apr 13, 2007 to Sep 28, 2007</td>\n",
       "      <td>Spring 2007</td>\n",
       "      <td>Fridays at 01:55 (JST)</td>\n",
       "      <td>Imagin,Lantis,Index,UniversalPicturesJapan</td>\n",
       "      <td>ADVFilms,SentaiFilmworks</td>\n",
       "      <td>Madhouse</td>\n",
       "      <td>Manga</td>\n",
       "      <td>Action,Comedy,Horror,Supernatural,Vampire</td>\n",
       "      <td>Shounen</td>\n",
       "      <td>24 min. per ep.</td>\n",
       "      <td>PG-13 - Teens 13 or older</td>\n",
       "      <td>6.961 (scored by 3007030,070 users)</td>\n",
       "      <td>4485</td>\n",
       "      <td>#2465</td>\n",
       "      <td>81,832</td>\n",
       "      <td>213</td>\n",
       "      <td>4486</td>\n",
       "      <td>https://myanimelist.net/anime/2130/Kaibutsu_Oujo</td>\n",
       "    </tr>\n",
       "  </tbody>\n",
       "</table>\n",
       "</div>"
      ],
      "text/plain": [
       "                                         name  \\\n",
       "1236        Arakawa Under the Bridge x Bridge   \n",
       "3552  Papa no Iukoto wo Kikinasai!: Pokkapoka   \n",
       "4319              Mirai Shounen Conan (Movie)   \n",
       "2670                            Ganbare Genki   \n",
       "4486                            Kaibutsu Oujo   \n",
       "\n",
       "                                              sypnopsis  \\\n",
       "1236  On the beautiful banks of the Arakawa River, i...   \n",
       "3552  Unaired episode included in the fifth Blu-ray ...   \n",
       "4319  Twenty years after a ravaging war drastically ...   \n",
       "2670  Horiguchi Genki was 5 years old boy. His mothe...   \n",
       "4486  When Hiro Hiyorimi tries to save a beautiful y...   \n",
       "\n",
       "                                                  image  \\\n",
       "1236  https://cdn.myanimelist.net/images/anime/1851/...   \n",
       "3552  https://cdn.myanimelist.net/images/anime/12/78...   \n",
       "4319  https://cdn.myanimelist.net/images/anime/1866/...   \n",
       "2670  https://cdn.myanimelist.net/images/anime/9/255...   \n",
       "4486  https://cdn.myanimelist.net/images/anime/2/209...   \n",
       "\n",
       "                                               synonyms        japanese_name  \\\n",
       "1236  Arakawa Under the Bridge*2, Arakawa Under the ...    荒川アンダー ザブリッジ×ブリッジ   \n",
       "3552  Papakiki Special, Listen to Me, Girls, I'm You...  パパのいうことを聞きなさい！ぽっかぽか   \n",
       "4319  Mirai Shounen Conan (1979), The Boy in Future ...       未来少年コナン (1979)   \n",
       "2670  Forza Sugar, Genki The Boy Champ, Go For It! G...               がんばれ元気   \n",
       "4486                    Kaibutsu Ohjo, Monster Princess                 怪物王女   \n",
       "\n",
       "                           english_name     type episodes           status  \\\n",
       "1236  Arakawa Under the Bridge x Bridge       TV       13  Finished Airing   \n",
       "3552                                NaN  Special        1  Finished Airing   \n",
       "4319             Future Boy Conan Movie    Movie        1  Finished Airing   \n",
       "2670                                NaN       TV       35  Finished Airing   \n",
       "4486              Princess Resurrection       TV       25  Finished Airing   \n",
       "\n",
       "                             aired    premiered                  broadcast  \\\n",
       "1236   Oct 4, 2010 to Dec 27, 2010    Fall 2010     Mondays at 01:35 (JST)   \n",
       "3552                  Jul 11, 2012          NaN                        NaN   \n",
       "4319                  Sep 15, 1979          NaN                        NaN   \n",
       "2670   Jul 16, 1980 to Apr 1, 1981  Summer 1980  Wednesdays at 19:00 (JST)   \n",
       "4486  Apr 13, 2007 to Sep 28, 2007  Spring 2007     Fridays at 01:55 (JST)   \n",
       "\n",
       "                                            producers  \\\n",
       "1236  SquareEnix,StarchildRecords,TVTokyoMusic,GANSIS   \n",
       "3552                                Nonefound,addsome   \n",
       "4319                                Nonefound,addsome   \n",
       "2670                                           FujiTV   \n",
       "4486       Imagin,Lantis,Index,UniversalPicturesJapan   \n",
       "\n",
       "                     licensors           studios       source  \\\n",
       "1236           NISAmerica,Inc.             Shaft        Manga   \n",
       "3552           SentaiFilmworks             feel.  Light novel   \n",
       "4319         Nonefound,addsome  Nippon Animation        Novel   \n",
       "2670         Nonefound,addsome    Toei Animation        Manga   \n",
       "4486  ADVFilms,SentaiFilmworks          Madhouse        Manga   \n",
       "\n",
       "                                         genres demographic         duration  \\\n",
       "1236                             Comedy,Romance      Seinen  23 min. per ep.   \n",
       "3552                             Comedy,Romance   Childcare          23 min.   \n",
       "4319                            Adventure,Drama      Sci-Fi     2 hr. 2 min.   \n",
       "2670                Comedy,Sports,Combat Sports     Shounen  23 min. per ep.   \n",
       "4486  Action,Comedy,Horror,Supernatural,Vampire     Shounen  24 min. per ep.   \n",
       "\n",
       "                        ratings                                score  rank_x  \\\n",
       "1236  PG-13 - Teens 13 or older  7.711 (scored by 8796187,961 users)    1237   \n",
       "3552  PG-13 - Teens 13 or older  7.161 (scored by 2337823,378 users)    3551   \n",
       "4319  PG-13 - Teens 13 or older       7.001 (scored by 956956 users)    4318   \n",
       "2670  PG-13 - Teens 13 or older    7.321 (scored by 10721,072 users)    2669   \n",
       "4486  PG-13 - Teens 13 or older  6.961 (scored by 3007030,070 users)    4485   \n",
       "\n",
       "     popularity  members favorites  rank_y  \\\n",
       "1236      #1473  167,694       424    1237   \n",
       "3552      #3625   41,197        19    3551   \n",
       "4319     #10172    3,169         4    4319   \n",
       "2670      #9976    3,393        16    2670   \n",
       "4486      #2465   81,832       213    4486   \n",
       "\n",
       "                                                  links  \n",
       "1236  https://myanimelist.net/anime/9074/Arakawa_Und...  \n",
       "3552  https://myanimelist.net/anime/12673/Papa_no_Iu...  \n",
       "4319  https://myanimelist.net/anime/7308/Mirai_Shoun...  \n",
       "2670   https://myanimelist.net/anime/3213/Ganbare_Genki  \n",
       "4486   https://myanimelist.net/anime/2130/Kaibutsu_Oujo  "
      ]
     },
     "execution_count": 5,
     "metadata": {},
     "output_type": "execute_result"
    }
   ],
   "source": [
    "pd.set_option('display.max_columns', 30)\n",
    "df_final.sample(5)"
   ]
  },
  {
   "cell_type": "code",
   "execution_count": 6,
   "id": "9dc59f1b",
   "metadata": {},
   "outputs": [],
   "source": [
    "anime = df_final[['name','sypnopsis','image','type','episodes','status','studios','source','genres','demographic','links']]"
   ]
  },
  {
   "cell_type": "code",
   "execution_count": 7,
   "id": "d47a6ded",
   "metadata": {},
   "outputs": [
    {
     "data": {
      "text/html": [
       "<div>\n",
       "<style scoped>\n",
       "    .dataframe tbody tr th:only-of-type {\n",
       "        vertical-align: middle;\n",
       "    }\n",
       "\n",
       "    .dataframe tbody tr th {\n",
       "        vertical-align: top;\n",
       "    }\n",
       "\n",
       "    .dataframe thead th {\n",
       "        text-align: right;\n",
       "    }\n",
       "</style>\n",
       "<table border=\"1\" class=\"dataframe\">\n",
       "  <thead>\n",
       "    <tr style=\"text-align: right;\">\n",
       "      <th></th>\n",
       "      <th>name</th>\n",
       "      <th>sypnopsis</th>\n",
       "      <th>image</th>\n",
       "      <th>type</th>\n",
       "      <th>episodes</th>\n",
       "      <th>status</th>\n",
       "      <th>studios</th>\n",
       "      <th>source</th>\n",
       "      <th>genres</th>\n",
       "      <th>demographic</th>\n",
       "      <th>links</th>\n",
       "    </tr>\n",
       "  </thead>\n",
       "  <tbody>\n",
       "    <tr>\n",
       "      <th>0</th>\n",
       "      <td>Sousou no Frieren</td>\n",
       "      <td>During their decade-long quest to defeat the D...</td>\n",
       "      <td>https://cdn.myanimelist.net/images/anime/1015/...</td>\n",
       "      <td>TV</td>\n",
       "      <td>28</td>\n",
       "      <td>Finished Airing</td>\n",
       "      <td>Madhouse</td>\n",
       "      <td>Manga</td>\n",
       "      <td>Adventure,Drama,Fantasy</td>\n",
       "      <td>Shounen</td>\n",
       "      <td>https://myanimelist.net/anime/52991/Sousou_no_...</td>\n",
       "    </tr>\n",
       "    <tr>\n",
       "      <th>1</th>\n",
       "      <td>One Piece Fan Letter</td>\n",
       "      <td>Two years after the Summit War in which Straw ...</td>\n",
       "      <td>https://cdn.myanimelist.net/images/anime/1455/...</td>\n",
       "      <td>TV Special</td>\n",
       "      <td>1</td>\n",
       "      <td>Finished Airing</td>\n",
       "      <td>Toei Animation</td>\n",
       "      <td>Light novel</td>\n",
       "      <td>Action,Adventure,Fantasy</td>\n",
       "      <td>Shounen</td>\n",
       "      <td>https://myanimelist.net/anime/60022/One_Piece_...</td>\n",
       "    </tr>\n",
       "    <tr>\n",
       "      <th>2</th>\n",
       "      <td>Fullmetal Alchemist: Brotherhood</td>\n",
       "      <td>After a horrific alchemy experiment goes wrong...</td>\n",
       "      <td>https://cdn.myanimelist.net/images/anime/1208/...</td>\n",
       "      <td>TV</td>\n",
       "      <td>64</td>\n",
       "      <td>Finished Airing</td>\n",
       "      <td>Bones</td>\n",
       "      <td>Manga</td>\n",
       "      <td>Action,Adventure,Drama,Fantasy,Military</td>\n",
       "      <td>Shounen</td>\n",
       "      <td>https://myanimelist.net/anime/5114/Fullmetal_A...</td>\n",
       "    </tr>\n",
       "    <tr>\n",
       "      <th>3</th>\n",
       "      <td>Steins;Gate</td>\n",
       "      <td>Eccentric scientist Rintarou Okabe has a never...</td>\n",
       "      <td>https://cdn.myanimelist.net/images/anime/1935/...</td>\n",
       "      <td>TV</td>\n",
       "      <td>24</td>\n",
       "      <td>Finished Airing</td>\n",
       "      <td>White Fox</td>\n",
       "      <td>Visual novel</td>\n",
       "      <td>Drama,Sci-Fi,Suspense,Psychological</td>\n",
       "      <td>Time Travel</td>\n",
       "      <td>https://myanimelist.net/anime/9253/Steins_Gate</td>\n",
       "    </tr>\n",
       "    <tr>\n",
       "      <th>4</th>\n",
       "      <td>Shingeki no Kyojin Season 3 Part 2</td>\n",
       "      <td>Seeking to restore humanity's diminishing hope...</td>\n",
       "      <td>https://cdn.myanimelist.net/images/anime/1517/...</td>\n",
       "      <td>TV</td>\n",
       "      <td>10</td>\n",
       "      <td>Finished Airing</td>\n",
       "      <td>Wit Studio</td>\n",
       "      <td>Manga</td>\n",
       "      <td>Action,Drama,Suspense,Gore,Military,Survival</td>\n",
       "      <td>Shounen</td>\n",
       "      <td>https://myanimelist.net/anime/38524/Shingeki_n...</td>\n",
       "    </tr>\n",
       "  </tbody>\n",
       "</table>\n",
       "</div>"
      ],
      "text/plain": [
       "                                 name  \\\n",
       "0                   Sousou no Frieren   \n",
       "1                One Piece Fan Letter   \n",
       "2    Fullmetal Alchemist: Brotherhood   \n",
       "3                         Steins;Gate   \n",
       "4  Shingeki no Kyojin Season 3 Part 2   \n",
       "\n",
       "                                           sypnopsis  \\\n",
       "0  During their decade-long quest to defeat the D...   \n",
       "1  Two years after the Summit War in which Straw ...   \n",
       "2  After a horrific alchemy experiment goes wrong...   \n",
       "3  Eccentric scientist Rintarou Okabe has a never...   \n",
       "4  Seeking to restore humanity's diminishing hope...   \n",
       "\n",
       "                                               image        type episodes  \\\n",
       "0  https://cdn.myanimelist.net/images/anime/1015/...          TV       28   \n",
       "1  https://cdn.myanimelist.net/images/anime/1455/...  TV Special        1   \n",
       "2  https://cdn.myanimelist.net/images/anime/1208/...          TV       64   \n",
       "3  https://cdn.myanimelist.net/images/anime/1935/...          TV       24   \n",
       "4  https://cdn.myanimelist.net/images/anime/1517/...          TV       10   \n",
       "\n",
       "            status         studios        source  \\\n",
       "0  Finished Airing        Madhouse         Manga   \n",
       "1  Finished Airing  Toei Animation   Light novel   \n",
       "2  Finished Airing           Bones         Manga   \n",
       "3  Finished Airing       White Fox  Visual novel   \n",
       "4  Finished Airing      Wit Studio         Manga   \n",
       "\n",
       "                                         genres  demographic  \\\n",
       "0                       Adventure,Drama,Fantasy      Shounen   \n",
       "1                      Action,Adventure,Fantasy      Shounen   \n",
       "2       Action,Adventure,Drama,Fantasy,Military      Shounen   \n",
       "3           Drama,Sci-Fi,Suspense,Psychological  Time Travel   \n",
       "4  Action,Drama,Suspense,Gore,Military,Survival      Shounen   \n",
       "\n",
       "                                               links  \n",
       "0  https://myanimelist.net/anime/52991/Sousou_no_...  \n",
       "1  https://myanimelist.net/anime/60022/One_Piece_...  \n",
       "2  https://myanimelist.net/anime/5114/Fullmetal_A...  \n",
       "3     https://myanimelist.net/anime/9253/Steins_Gate  \n",
       "4  https://myanimelist.net/anime/38524/Shingeki_n...  "
      ]
     },
     "execution_count": 7,
     "metadata": {},
     "output_type": "execute_result"
    }
   ],
   "source": [
    "anime.head()"
   ]
  },
  {
   "cell_type": "code",
   "execution_count": 8,
   "id": "c5de3ebd",
   "metadata": {},
   "outputs": [
    {
     "data": {
      "text/plain": [
       "name              0\n",
       "sypnopsis         2\n",
       "image             9\n",
       "type              0\n",
       "episodes          0\n",
       "status            0\n",
       "studios           0\n",
       "source            0\n",
       "genres         1678\n",
       "demographic      35\n",
       "links             0\n",
       "dtype: int64"
      ]
     },
     "execution_count": 8,
     "metadata": {},
     "output_type": "execute_result"
    }
   ],
   "source": [
    "anime.isnull().sum()"
   ]
  },
  {
   "cell_type": "code",
   "execution_count": 9,
   "id": "575da72a",
   "metadata": {},
   "outputs": [
    {
     "name": "stderr",
     "output_type": "stream",
     "text": [
      "C:\\Users\\satka\\AppData\\Local\\Temp\\ipykernel_16692\\3636632130.py:1: SettingWithCopyWarning: \n",
      "A value is trying to be set on a copy of a slice from a DataFrame\n",
      "\n",
      "See the caveats in the documentation: https://pandas.pydata.org/pandas-docs/stable/user_guide/indexing.html#returning-a-view-versus-a-copy\n",
      "  anime.dropna(inplace=True)\n"
     ]
    }
   ],
   "source": [
    "anime.dropna(inplace=True)"
   ]
  },
  {
   "cell_type": "code",
   "execution_count": 10,
   "id": "17a92938",
   "metadata": {},
   "outputs": [
    {
     "name": "stderr",
     "output_type": "stream",
     "text": [
      "C:\\Users\\satka\\AppData\\Local\\Temp\\ipykernel_16692\\597685426.py:1: SettingWithCopyWarning: \n",
      "A value is trying to be set on a copy of a slice from a DataFrame.\n",
      "Try using .loc[row_indexer,col_indexer] = value instead\n",
      "\n",
      "See the caveats in the documentation: https://pandas.pydata.org/pandas-docs/stable/user_guide/indexing.html#returning-a-view-versus-a-copy\n",
      "  anime['tags'] = anime['sypnopsis']+\" \" + anime['type']+\" \" + anime['episodes']+\" \" + anime['status'] +\" \"+ anime['studios'] +\" \"+ anime['source']+\" \" + anime['genres']+\" \" + anime['demographic']\n"
     ]
    }
   ],
   "source": [
    "anime['tags'] = anime['sypnopsis']+\" \" + anime['type']+\" \" + anime['episodes']+\" \" + anime['status'] +\" \"+ anime['studios'] +\" \"+ anime['source']+\" \" + anime['genres']+\" \" + anime['demographic']"
   ]
  },
  {
   "cell_type": "code",
   "execution_count": 11,
   "id": "a66b4b1a",
   "metadata": {},
   "outputs": [
    {
     "data": {
      "text/html": [
       "<div>\n",
       "<style scoped>\n",
       "    .dataframe tbody tr th:only-of-type {\n",
       "        vertical-align: middle;\n",
       "    }\n",
       "\n",
       "    .dataframe tbody tr th {\n",
       "        vertical-align: top;\n",
       "    }\n",
       "\n",
       "    .dataframe thead th {\n",
       "        text-align: right;\n",
       "    }\n",
       "</style>\n",
       "<table border=\"1\" class=\"dataframe\">\n",
       "  <thead>\n",
       "    <tr style=\"text-align: right;\">\n",
       "      <th></th>\n",
       "      <th>name</th>\n",
       "      <th>sypnopsis</th>\n",
       "      <th>image</th>\n",
       "      <th>type</th>\n",
       "      <th>episodes</th>\n",
       "      <th>status</th>\n",
       "      <th>studios</th>\n",
       "      <th>source</th>\n",
       "      <th>genres</th>\n",
       "      <th>demographic</th>\n",
       "      <th>links</th>\n",
       "      <th>tags</th>\n",
       "    </tr>\n",
       "  </thead>\n",
       "  <tbody>\n",
       "    <tr>\n",
       "      <th>0</th>\n",
       "      <td>Sousou no Frieren</td>\n",
       "      <td>During their decade-long quest to defeat the D...</td>\n",
       "      <td>https://cdn.myanimelist.net/images/anime/1015/...</td>\n",
       "      <td>TV</td>\n",
       "      <td>28</td>\n",
       "      <td>Finished Airing</td>\n",
       "      <td>Madhouse</td>\n",
       "      <td>Manga</td>\n",
       "      <td>Adventure,Drama,Fantasy</td>\n",
       "      <td>Shounen</td>\n",
       "      <td>https://myanimelist.net/anime/52991/Sousou_no_...</td>\n",
       "      <td>During their decade-long quest to defeat the D...</td>\n",
       "    </tr>\n",
       "    <tr>\n",
       "      <th>1</th>\n",
       "      <td>One Piece Fan Letter</td>\n",
       "      <td>Two years after the Summit War in which Straw ...</td>\n",
       "      <td>https://cdn.myanimelist.net/images/anime/1455/...</td>\n",
       "      <td>TV Special</td>\n",
       "      <td>1</td>\n",
       "      <td>Finished Airing</td>\n",
       "      <td>Toei Animation</td>\n",
       "      <td>Light novel</td>\n",
       "      <td>Action,Adventure,Fantasy</td>\n",
       "      <td>Shounen</td>\n",
       "      <td>https://myanimelist.net/anime/60022/One_Piece_...</td>\n",
       "      <td>Two years after the Summit War in which Straw ...</td>\n",
       "    </tr>\n",
       "    <tr>\n",
       "      <th>2</th>\n",
       "      <td>Fullmetal Alchemist: Brotherhood</td>\n",
       "      <td>After a horrific alchemy experiment goes wrong...</td>\n",
       "      <td>https://cdn.myanimelist.net/images/anime/1208/...</td>\n",
       "      <td>TV</td>\n",
       "      <td>64</td>\n",
       "      <td>Finished Airing</td>\n",
       "      <td>Bones</td>\n",
       "      <td>Manga</td>\n",
       "      <td>Action,Adventure,Drama,Fantasy,Military</td>\n",
       "      <td>Shounen</td>\n",
       "      <td>https://myanimelist.net/anime/5114/Fullmetal_A...</td>\n",
       "      <td>After a horrific alchemy experiment goes wrong...</td>\n",
       "    </tr>\n",
       "    <tr>\n",
       "      <th>3</th>\n",
       "      <td>Steins;Gate</td>\n",
       "      <td>Eccentric scientist Rintarou Okabe has a never...</td>\n",
       "      <td>https://cdn.myanimelist.net/images/anime/1935/...</td>\n",
       "      <td>TV</td>\n",
       "      <td>24</td>\n",
       "      <td>Finished Airing</td>\n",
       "      <td>White Fox</td>\n",
       "      <td>Visual novel</td>\n",
       "      <td>Drama,Sci-Fi,Suspense,Psychological</td>\n",
       "      <td>Time Travel</td>\n",
       "      <td>https://myanimelist.net/anime/9253/Steins_Gate</td>\n",
       "      <td>Eccentric scientist Rintarou Okabe has a never...</td>\n",
       "    </tr>\n",
       "    <tr>\n",
       "      <th>4</th>\n",
       "      <td>Shingeki no Kyojin Season 3 Part 2</td>\n",
       "      <td>Seeking to restore humanity's diminishing hope...</td>\n",
       "      <td>https://cdn.myanimelist.net/images/anime/1517/...</td>\n",
       "      <td>TV</td>\n",
       "      <td>10</td>\n",
       "      <td>Finished Airing</td>\n",
       "      <td>Wit Studio</td>\n",
       "      <td>Manga</td>\n",
       "      <td>Action,Drama,Suspense,Gore,Military,Survival</td>\n",
       "      <td>Shounen</td>\n",
       "      <td>https://myanimelist.net/anime/38524/Shingeki_n...</td>\n",
       "      <td>Seeking to restore humanity's diminishing hope...</td>\n",
       "    </tr>\n",
       "  </tbody>\n",
       "</table>\n",
       "</div>"
      ],
      "text/plain": [
       "                                 name  \\\n",
       "0                   Sousou no Frieren   \n",
       "1                One Piece Fan Letter   \n",
       "2    Fullmetal Alchemist: Brotherhood   \n",
       "3                         Steins;Gate   \n",
       "4  Shingeki no Kyojin Season 3 Part 2   \n",
       "\n",
       "                                           sypnopsis  \\\n",
       "0  During their decade-long quest to defeat the D...   \n",
       "1  Two years after the Summit War in which Straw ...   \n",
       "2  After a horrific alchemy experiment goes wrong...   \n",
       "3  Eccentric scientist Rintarou Okabe has a never...   \n",
       "4  Seeking to restore humanity's diminishing hope...   \n",
       "\n",
       "                                               image        type episodes  \\\n",
       "0  https://cdn.myanimelist.net/images/anime/1015/...          TV       28   \n",
       "1  https://cdn.myanimelist.net/images/anime/1455/...  TV Special        1   \n",
       "2  https://cdn.myanimelist.net/images/anime/1208/...          TV       64   \n",
       "3  https://cdn.myanimelist.net/images/anime/1935/...          TV       24   \n",
       "4  https://cdn.myanimelist.net/images/anime/1517/...          TV       10   \n",
       "\n",
       "            status         studios        source  \\\n",
       "0  Finished Airing        Madhouse         Manga   \n",
       "1  Finished Airing  Toei Animation   Light novel   \n",
       "2  Finished Airing           Bones         Manga   \n",
       "3  Finished Airing       White Fox  Visual novel   \n",
       "4  Finished Airing      Wit Studio         Manga   \n",
       "\n",
       "                                         genres  demographic  \\\n",
       "0                       Adventure,Drama,Fantasy      Shounen   \n",
       "1                      Action,Adventure,Fantasy      Shounen   \n",
       "2       Action,Adventure,Drama,Fantasy,Military      Shounen   \n",
       "3           Drama,Sci-Fi,Suspense,Psychological  Time Travel   \n",
       "4  Action,Drama,Suspense,Gore,Military,Survival      Shounen   \n",
       "\n",
       "                                               links  \\\n",
       "0  https://myanimelist.net/anime/52991/Sousou_no_...   \n",
       "1  https://myanimelist.net/anime/60022/One_Piece_...   \n",
       "2  https://myanimelist.net/anime/5114/Fullmetal_A...   \n",
       "3     https://myanimelist.net/anime/9253/Steins_Gate   \n",
       "4  https://myanimelist.net/anime/38524/Shingeki_n...   \n",
       "\n",
       "                                                tags  \n",
       "0  During their decade-long quest to defeat the D...  \n",
       "1  Two years after the Summit War in which Straw ...  \n",
       "2  After a horrific alchemy experiment goes wrong...  \n",
       "3  Eccentric scientist Rintarou Okabe has a never...  \n",
       "4  Seeking to restore humanity's diminishing hope...  "
      ]
     },
     "execution_count": 11,
     "metadata": {},
     "output_type": "execute_result"
    }
   ],
   "source": [
    "anime.head()"
   ]
  },
  {
   "cell_type": "code",
   "execution_count": 12,
   "id": "20c656c9",
   "metadata": {},
   "outputs": [],
   "source": [
    "anime_1 = anime[['image','name','tags','links']]"
   ]
  },
  {
   "cell_type": "code",
   "execution_count": 13,
   "id": "dfc04153",
   "metadata": {},
   "outputs": [],
   "source": [
    "anime_1 = anime_1.rename({'name':'title'},axis=1)"
   ]
  },
  {
   "cell_type": "code",
   "execution_count": 14,
   "id": "e10e3116",
   "metadata": {},
   "outputs": [
    {
     "data": {
      "text/html": [
       "<div>\n",
       "<style scoped>\n",
       "    .dataframe tbody tr th:only-of-type {\n",
       "        vertical-align: middle;\n",
       "    }\n",
       "\n",
       "    .dataframe tbody tr th {\n",
       "        vertical-align: top;\n",
       "    }\n",
       "\n",
       "    .dataframe thead th {\n",
       "        text-align: right;\n",
       "    }\n",
       "</style>\n",
       "<table border=\"1\" class=\"dataframe\">\n",
       "  <thead>\n",
       "    <tr style=\"text-align: right;\">\n",
       "      <th></th>\n",
       "      <th>image</th>\n",
       "      <th>title</th>\n",
       "      <th>tags</th>\n",
       "      <th>links</th>\n",
       "    </tr>\n",
       "  </thead>\n",
       "  <tbody>\n",
       "    <tr>\n",
       "      <th>0</th>\n",
       "      <td>https://cdn.myanimelist.net/images/anime/1015/...</td>\n",
       "      <td>Sousou no Frieren</td>\n",
       "      <td>During their decade-long quest to defeat the D...</td>\n",
       "      <td>https://myanimelist.net/anime/52991/Sousou_no_...</td>\n",
       "    </tr>\n",
       "    <tr>\n",
       "      <th>1</th>\n",
       "      <td>https://cdn.myanimelist.net/images/anime/1455/...</td>\n",
       "      <td>One Piece Fan Letter</td>\n",
       "      <td>Two years after the Summit War in which Straw ...</td>\n",
       "      <td>https://myanimelist.net/anime/60022/One_Piece_...</td>\n",
       "    </tr>\n",
       "    <tr>\n",
       "      <th>2</th>\n",
       "      <td>https://cdn.myanimelist.net/images/anime/1208/...</td>\n",
       "      <td>Fullmetal Alchemist: Brotherhood</td>\n",
       "      <td>After a horrific alchemy experiment goes wrong...</td>\n",
       "      <td>https://myanimelist.net/anime/5114/Fullmetal_A...</td>\n",
       "    </tr>\n",
       "    <tr>\n",
       "      <th>3</th>\n",
       "      <td>https://cdn.myanimelist.net/images/anime/1935/...</td>\n",
       "      <td>Steins;Gate</td>\n",
       "      <td>Eccentric scientist Rintarou Okabe has a never...</td>\n",
       "      <td>https://myanimelist.net/anime/9253/Steins_Gate</td>\n",
       "    </tr>\n",
       "    <tr>\n",
       "      <th>4</th>\n",
       "      <td>https://cdn.myanimelist.net/images/anime/1517/...</td>\n",
       "      <td>Shingeki no Kyojin Season 3 Part 2</td>\n",
       "      <td>Seeking to restore humanity's diminishing hope...</td>\n",
       "      <td>https://myanimelist.net/anime/38524/Shingeki_n...</td>\n",
       "    </tr>\n",
       "  </tbody>\n",
       "</table>\n",
       "</div>"
      ],
      "text/plain": [
       "                                               image  \\\n",
       "0  https://cdn.myanimelist.net/images/anime/1015/...   \n",
       "1  https://cdn.myanimelist.net/images/anime/1455/...   \n",
       "2  https://cdn.myanimelist.net/images/anime/1208/...   \n",
       "3  https://cdn.myanimelist.net/images/anime/1935/...   \n",
       "4  https://cdn.myanimelist.net/images/anime/1517/...   \n",
       "\n",
       "                                title  \\\n",
       "0                   Sousou no Frieren   \n",
       "1                One Piece Fan Letter   \n",
       "2    Fullmetal Alchemist: Brotherhood   \n",
       "3                         Steins;Gate   \n",
       "4  Shingeki no Kyojin Season 3 Part 2   \n",
       "\n",
       "                                                tags  \\\n",
       "0  During their decade-long quest to defeat the D...   \n",
       "1  Two years after the Summit War in which Straw ...   \n",
       "2  After a horrific alchemy experiment goes wrong...   \n",
       "3  Eccentric scientist Rintarou Okabe has a never...   \n",
       "4  Seeking to restore humanity's diminishing hope...   \n",
       "\n",
       "                                               links  \n",
       "0  https://myanimelist.net/anime/52991/Sousou_no_...  \n",
       "1  https://myanimelist.net/anime/60022/One_Piece_...  \n",
       "2  https://myanimelist.net/anime/5114/Fullmetal_A...  \n",
       "3     https://myanimelist.net/anime/9253/Steins_Gate  \n",
       "4  https://myanimelist.net/anime/38524/Shingeki_n...  "
      ]
     },
     "execution_count": 14,
     "metadata": {},
     "output_type": "execute_result"
    }
   ],
   "source": [
    "anime_1.head()"
   ]
  },
  {
   "cell_type": "code",
   "execution_count": 15,
   "id": "b22644b1",
   "metadata": {
    "scrolled": true
   },
   "outputs": [
    {
     "data": {
      "text/plain": [
       "'During their decade-long quest to defeat the Demon King, the members of the hero\\'s party—Himmel himself, the priest Heiter, the dwarf warrior Eisen, and the elven mage Frieren—forge bonds through adventures and battles, creating unforgettable precious memories for most of them.  However, the time that Frieren spends with her comrades is equivalent to merely a fraction of her life, which has lasted over a thousand years. When the party disbands after their victory, Frieren casually returns to her \"usual\" routine of collecting spells across the continent. Due to her different sense of time, she seemingly holds no strong feelings toward the experiences she went through.  As the years pass, Frieren gradually realizes how her days in the hero\\'s party truly impacted her. Witnessing the deaths of two of her former companions, Frieren begins to regret having taken their presence for granted; she vows to better understand humans and create real personal connections. Although the story of that once memorable journey has long ended, a new tale is about to begin.  [Written by MAL Rewrite] TV 28 Finished Airing Madhouse Manga Adventure,Drama,Fantasy Shounen'"
      ]
     },
     "execution_count": 15,
     "metadata": {},
     "output_type": "execute_result"
    }
   ],
   "source": [
    "anime_1.tags[0].replace('\\n',\" \")"
   ]
  },
  {
   "cell_type": "code",
   "execution_count": 16,
   "id": "fa8453b1",
   "metadata": {},
   "outputs": [],
   "source": [
    "anime_1.tags = anime_1.tags.map(lambda x: x.replace('\\n',\" \"))"
   ]
  },
  {
   "cell_type": "code",
   "execution_count": 17,
   "id": "b9130a68",
   "metadata": {},
   "outputs": [
    {
     "data": {
      "text/plain": [
       "'After a horrific alchemy experiment goes wrong in the Elric household, brothers Edward and Alphonse are left in a catastrophic new reality. Ignoring the alchemical principle banning human transmutation, the boys attempted to bring their recently deceased mother back to life. Instead, they suffered brutal personal loss: Alphonse\\'s body disintegrated while Edward lost a leg and then sacrificed an arm to keep Alphonse\\'s soul in the physical realm by binding it to a hulking suit of armor.  The brothers are rescued by their neighbor Pinako Rockbell and her granddaughter Winry. Known as a bio-mechanical engineering prodigy, Winry creates prosthetic limbs for Edward by utilizing \"automail,\" a tough, versatile metal used in robots and combat armor. After years of training, the Elric brothers set off on a quest to restore their bodies by locating the Philosopher\\'s Stone—a powerful gem that allows an alchemist to defy the traditional laws of Equivalent Exchange.  As Edward becomes an infamous alchemist and gains the nickname \"Fullmetal,\" the boys\\' journey embroils them in a growing conspiracy that threatens the fate of the world.  [Written by MAL Rewrite] TV 64 Finished Airing Bones Manga Action,Adventure,Drama,Fantasy,Military Shounen'"
      ]
     },
     "execution_count": 17,
     "metadata": {},
     "output_type": "execute_result"
    }
   ],
   "source": [
    "anime_1.tags[2]"
   ]
  },
  {
   "cell_type": "code",
   "execution_count": 18,
   "id": "0af18e62",
   "metadata": {},
   "outputs": [],
   "source": [
    "from sklearn.feature_extraction.text import CountVectorizer\n",
    "\n",
    "cv = CountVectorizer(max_features=5000,stop_words='english')"
   ]
  },
  {
   "cell_type": "code",
   "execution_count": 19,
   "id": "20a16460",
   "metadata": {},
   "outputs": [],
   "source": [
    "from nltk.stem.porter import PorterStemmer\n",
    "ps = PorterStemmer()"
   ]
  },
  {
   "cell_type": "code",
   "execution_count": 20,
   "id": "04841d36",
   "metadata": {},
   "outputs": [],
   "source": [
    "def stem(text):\n",
    "    y = []\n",
    "    \n",
    "    for i in text.split():\n",
    "        y.append(ps.stem(i))\n",
    "    \n",
    "    return \" \".join(y)"
   ]
  },
  {
   "cell_type": "code",
   "execution_count": 39,
   "id": "05e35116",
   "metadata": {},
   "outputs": [],
   "source": [
    "anime_2 = anime_1[:1500]"
   ]
  },
  {
   "cell_type": "code",
   "execution_count": 40,
   "id": "e2bec76e",
   "metadata": {},
   "outputs": [
    {
     "name": "stderr",
     "output_type": "stream",
     "text": [
      "C:\\Users\\satka\\AppData\\Local\\Temp\\ipykernel_16692\\3988020968.py:1: SettingWithCopyWarning: \n",
      "A value is trying to be set on a copy of a slice from a DataFrame.\n",
      "Try using .loc[row_indexer,col_indexer] = value instead\n",
      "\n",
      "See the caveats in the documentation: https://pandas.pydata.org/pandas-docs/stable/user_guide/indexing.html#returning-a-view-versus-a-copy\n",
      "  anime_2['tags'] = anime_2['tags'].apply(stem)\n"
     ]
    }
   ],
   "source": [
    "anime_2['tags'] = anime_2['tags'].apply(stem)"
   ]
  },
  {
   "cell_type": "code",
   "execution_count": 41,
   "id": "78528865",
   "metadata": {},
   "outputs": [],
   "source": [
    "vectors = cv.fit_transform(anime_2['tags']).toarray()"
   ]
  },
  {
   "cell_type": "code",
   "execution_count": 42,
   "id": "070eda16",
   "metadata": {},
   "outputs": [
    {
     "data": {
      "text/plain": [
       "(1500, 5000)"
      ]
     },
     "execution_count": 42,
     "metadata": {},
     "output_type": "execute_result"
    }
   ],
   "source": [
    "vectors.shape"
   ]
  },
  {
   "cell_type": "code",
   "execution_count": 43,
   "id": "92f9b5a2",
   "metadata": {
    "scrolled": true
   },
   "outputs": [],
   "source": [
    "#print([i for i in cv.get_feature_names_out()],end='\\n')"
   ]
  },
  {
   "cell_type": "code",
   "execution_count": 44,
   "id": "4e9c1e6d",
   "metadata": {},
   "outputs": [],
   "source": [
    "from sklearn.metrics.pairwise import cosine_similarity"
   ]
  },
  {
   "cell_type": "code",
   "execution_count": 45,
   "id": "a825cdcf",
   "metadata": {},
   "outputs": [],
   "source": [
    "similarity = cosine_similarity(vectors)"
   ]
  },
  {
   "cell_type": "code",
   "execution_count": 46,
   "id": "3ca57c92",
   "metadata": {},
   "outputs": [],
   "source": [
    "def recommend(anime):\n",
    "    anime_index = anime_2[anime_2['title']== anime].index[0]\n",
    "    distances = np.around(similarity[anime_index],2)\n",
    "    anime_list = sorted(list(enumerate(distances)),reverse=True,key=lambda x:x[1])[1:6]\n",
    "\n",
    "    for i in anime_list:\n",
    "        print(anime_2.iloc[i[0]].title)\n",
    "        print(anime_2.iloc[i[0]].links)\n",
    "        \n",
    "        "
   ]
  },
  {
   "cell_type": "code",
   "execution_count": 47,
   "id": "fc98f5ec",
   "metadata": {},
   "outputs": [
    {
     "data": {
      "text/plain": [
       "(1500, 1500)"
      ]
     },
     "execution_count": 47,
     "metadata": {},
     "output_type": "execute_result"
    }
   ],
   "source": [
    "similarity.shape"
   ]
  },
  {
   "cell_type": "code",
   "execution_count": 48,
   "id": "8ef6fc6d",
   "metadata": {
    "scrolled": true
   },
   "outputs": [
    {
     "name": "stdout",
     "output_type": "stream",
     "text": [
      "Shingeki no Kyojin Season 2 Movie: Kakusei no Houkou\n",
      "https://myanimelist.net/anime/36702/Shingeki_no_Kyojin_Season_2_Movie__Kakusei_no_Houkou\n",
      "Shingeki no Kyojin Season 2\n",
      "https://myanimelist.net/anime/25777/Shingeki_no_Kyojin_Season_2\n",
      "Shingeki no Kyojin: The Final Season\n",
      "https://myanimelist.net/anime/40028/Shingeki_no_Kyojin__The_Final_Season\n",
      "Shingeki no Kyojin: The Final Season Part 2\n",
      "https://myanimelist.net/anime/48583/Shingeki_no_Kyojin__The_Final_Season_Part_2\n",
      "Shingeki no Kyojin: The Final Season - Kanketsu-hen\n",
      "https://myanimelist.net/anime/51535/Shingeki_no_Kyojin__The_Final_Season_-_Kanketsu-hen\n"
     ]
    }
   ],
   "source": [
    "recommend('Shingeki no Kyojin Season 3 Part 2')"
   ]
  },
  {
   "cell_type": "code",
   "execution_count": 49,
   "id": "7006e681",
   "metadata": {},
   "outputs": [],
   "source": [
    "import pickle\n",
    "#import gzip"
   ]
  },
  {
   "cell_type": "code",
   "execution_count": 50,
   "id": "53ea05b0",
   "metadata": {},
   "outputs": [],
   "source": [
    "#pickle.dump(anime_1.to_dict(),open('anime_dict.pkl','wb'))"
   ]
  },
  {
   "cell_type": "code",
   "execution_count": 51,
   "id": "9aff5cd7",
   "metadata": {},
   "outputs": [],
   "source": [
    "pickle.dump(similarity,open('similarity.pkl','wb'))"
   ]
  },
  {
   "cell_type": "code",
   "execution_count": 34,
   "id": "b77d65ae",
   "metadata": {},
   "outputs": [],
   "source": [
    "# apply PCA to similarity matrix"
   ]
  },
  {
   "cell_type": "code",
   "execution_count": 35,
   "id": "d6c4200d",
   "metadata": {},
   "outputs": [],
   "source": [
    "#similarity.max()"
   ]
  },
  {
   "cell_type": "code",
   "execution_count": 36,
   "id": "5efc16c1",
   "metadata": {},
   "outputs": [],
   "source": [
    "#from sklearn.decomposition import PCA"
   ]
  },
  {
   "cell_type": "code",
   "execution_count": 37,
   "id": "68ad72a3",
   "metadata": {},
   "outputs": [],
   "source": [
    "#pca = PCA(n_components=4000)\n",
    "#pca_similarity = pca.fit_transform(similarity)\n",
    "#pca_similarity"
   ]
  },
  {
   "cell_type": "code",
   "execution_count": 38,
   "id": "43ed1380",
   "metadata": {},
   "outputs": [],
   "source": [
    "#pca_similarity.shape"
   ]
  },
  {
   "cell_type": "markdown",
   "id": "50a154f6",
   "metadata": {},
   "source": [
    "def recommend_1(anime):\n",
    "    anime_index = anime_2[anime_2['title']== anime].index[0]\n",
    "    distances = np.around(pca_similarity[anime_index],2)\n",
    "    anime_list = sorted(list(enumerate(distances)),reverse=True,key=lambda x:x[1])[1:6]\n",
    "\n",
    "    for i in anime_list:\n",
    "        print(anime_2.iloc[i[0]].title)\n",
    "        print(anime_2.iloc[i[0]].links)"
   ]
  },
  {
   "cell_type": "markdown",
   "id": "a598bd2a",
   "metadata": {},
   "source": [
    "recommend_1('Shingeki no Kyojin Season 3 Part 2')"
   ]
  },
  {
   "cell_type": "markdown",
   "id": "f1ffbf9d",
   "metadata": {},
   "source": [
    "pca_similarity"
   ]
  },
  {
   "cell_type": "markdown",
   "id": "026ef6b2",
   "metadata": {},
   "source": [
    "np.around(similarity,2)"
   ]
  },
  {
   "cell_type": "code",
   "execution_count": null,
   "id": "aa919be2",
   "metadata": {},
   "outputs": [],
   "source": []
  }
 ],
 "metadata": {
  "kernelspec": {
   "display_name": "Python 3 (ipykernel)",
   "language": "python",
   "name": "python3"
  },
  "language_info": {
   "codemirror_mode": {
    "name": "ipython",
    "version": 3
   },
   "file_extension": ".py",
   "mimetype": "text/x-python",
   "name": "python",
   "nbconvert_exporter": "python",
   "pygments_lexer": "ipython3",
   "version": "3.10.9"
  }
 },
 "nbformat": 4,
 "nbformat_minor": 5
}
